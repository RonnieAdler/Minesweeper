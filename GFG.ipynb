{
  "nbformat": 4,
  "nbformat_minor": 0,
  "metadata": {
    "colab": {
      "name": "GFG.ipynb",
      "provenance": [],
      "authorship_tag": "ABX9TyO7HJwVxfcfDB0Vc4L/D6nn",
      "include_colab_link": true
    },
    "kernelspec": {
      "name": "python3",
      "display_name": "Python 3"
    },
    "language_info": {
      "name": "python"
    }
  },
  "cells": [
    {
      "cell_type": "markdown",
      "metadata": {
        "id": "view-in-github",
        "colab_type": "text"
      },
      "source": [
        "<a href=\"https://colab.research.google.com/github/RonnieAdler/geekycorsula/blob/trfiles/GFG.ipynb\" target=\"_parent\"><img src=\"https://colab.research.google.com/assets/colab-badge.svg\" alt=\"Open In Colab\"/></a>"
      ]
    },
    {
      "cell_type": "code",
      "metadata": {
        "id": "da7hL6ohDkLv"
      },
      "source": [
        "Given two strings A and B, find the minimum number of times A has to be repeated such that B becomes a substring of the repeated A. If B cannot be a substring of A no matter how many times it is repeated, return -1."
      ],
      "execution_count": null,
      "outputs": []
    },
    {
      "cell_type": "code",
      "metadata": {
        "colab": {
          "base_uri": "https://localhost:8080/"
        },
        "id": "OsUvq78pD3kj",
        "outputId": "07be3bb0-5af8-44f7-fbaf-449ab9c56191"
      },
      "source": [
        "a='bv'\n",
        "b='a'\n",
        "def hel(a,b):\n",
        "  c=0\n",
        "  d=a\n",
        "  while True:\n",
        "    if len(a)> len(b):\n",
        "      if b in a :\n",
        "        return(c)\n",
        "        break\n",
        "      else:\n",
        "        return(-1)\n",
        "    else:\n",
        "      a = str(d) + str(a)\n",
        "\n",
        "print(hel(a,b))\n"
      ],
      "execution_count": null,
      "outputs": [
        {
          "output_type": "stream",
          "name": "stdout",
          "text": [
            "-1\n"
          ]
        }
      ]
    },
    {
      "cell_type": "code",
      "metadata": {
        "colab": {
          "base_uri": "https://localhost:8080/"
        },
        "id": "6rC12RBlbaj6",
        "outputId": "e8b372ca-148d-40d9-8c32-8207e11934f5"
      },
      "source": [
        "    def repeatedStringMatch(self, A, B):\n",
        "        A=str(A)\n",
        "        B=str(B)\n",
        "        d=A\n",
        "        c=0\n",
        "        while True:\n",
        "            c+=1\n",
        "            G=len(A)\n",
        "            H=len(B)\n",
        "\n",
        "            if G<H  :\n",
        "               A = str(d) + str(A)\n",
        "            else:\n",
        "                if B in A :\n",
        "                    return(c)\n",
        "                    break\n",
        "                else:\n",
        "                    return(-1)\n",
        "    A=\"abcd\"\n",
        "    B=\"bcdabcda\"\n",
        "    print(repeatedStringMatch(0,A,B))"
      ],
      "execution_count": null,
      "outputs": [
        {
          "output_type": "stream",
          "name": "stdout",
          "text": [
            "-1\n"
          ]
        }
      ]
    },
    {
      "cell_type": "code",
      "metadata": {
        "id": "_7_4ZsOvjNoS"
      },
      "source": [
        ""
      ],
      "execution_count": null,
      "outputs": []
    },
    {
      "cell_type": "code",
      "metadata": {
        "colab": {
          "base_uri": "https://localhost:8080/"
        },
        "id": "73AyvHSXjOHX",
        "outputId": "a9b2e43b-56ec-43da-974d-dcd71d51ff17"
      },
      "source": [
        " \n",
        "A=\"abcd\"\n",
        "B=\"bcdabcda\"\n",
        "print(len(A))\n",
        "print(len(B))\n",
        "I"
      ],
      "execution_count": null,
      "outputs": [
        {
          "output_type": "stream",
          "name": "stdout",
          "text": [
            "4\n",
            "8\n"
          ]
        }
      ]
    },
    {
      "cell_type": "code",
      "metadata": {
        "id": "UkQb86E0gbwr"
      },
      "source": [
        "B"
      ],
      "execution_count": null,
      "outputs": []
    },
    {
      "cell_type": "code",
      "metadata": {
        "colab": {
          "base_uri": "https://localhost:8080/"
        },
        "id": "nhQu-jL1HIiO",
        "outputId": "fcf3abf6-ccec-4874-cd4d-8f3f8df951c5"
      },
      "source": [
        "\n",
        "a='abcd'\n",
        "b='bcdabcda'\n",
        "d=a\n",
        "c=0 \n",
        "while True :\n",
        "\n",
        "  c+=1\n",
        "  if len(a)> len(b):\n",
        "    if b in a :\n",
        "      print(c)\n",
        "      break\n",
        "    else:\n",
        "      print(-1)\n",
        "  else:\n",
        "    a = str(d) + str(a)\n"
      ],
      "execution_count": null,
      "outputs": [
        {
          "output_type": "stream",
          "name": "stdout",
          "text": [
            "3\n"
          ]
        }
      ]
    },
    {
      "cell_type": "code",
      "metadata": {
        "colab": {
          "base_uri": "https://localhost:8080/",
          "height": 129
        },
        "id": "zzhOl2PMoelo",
        "outputId": "e02c126a-6972-4228-b11b-e512b8c48562"
      },
      "source": [
        "\n",
        "    def repeatedStringMatch(self, A, B):\n",
        "        d,c=A,0 \n",
        "        while True:\n",
        "            c+=1\n",
        "            if len(d)<len(B):\n",
        "                 A = str(d) + str(A)\n",
        "            else:\n",
        "                if B in A :\n",
        "                    return(c)\n",
        "                    break\n",
        "                else:\n",
        "                    return(-1)"
      ],
      "execution_count": null,
      "outputs": [
        {
          "output_type": "error",
          "ename": "IndentationError",
          "evalue": "ignored",
          "traceback": [
            "\u001b[0;36m  File \u001b[0;32m\"<ipython-input-6-3cf75d72fbc9>\"\u001b[0;36m, line \u001b[0;32m2\u001b[0m\n\u001b[0;31m    def repeatedStringMatch(self, A, B):\u001b[0m\n\u001b[0m    ^\u001b[0m\n\u001b[0;31mIndentationError\u001b[0m\u001b[0;31m:\u001b[0m unexpected indent\n"
          ]
        }
      ]
    },
    {
      "cell_type": "markdown",
      "metadata": {
        "id": "De0EGKjppp0h"
      },
      "source": [
        "hint:Let count = B.length() / A.length().\n",
        "Now check whether B is a substring of A*count or A*(count+1)"
      ]
    },
    {
      "cell_type": "code",
      "metadata": {
        "id": "IxXUOjOVptff"
      },
      "source": [
        "##this is my final\n",
        "    def repeatedStringMatch(self, A, B):\n",
        "        d,c=A,0\n",
        "        while True:\n",
        "            c+=1\n",
        "            if len(d)>len(B) or len(d)>len(B):\n",
        "                if B in A :\n",
        "                    return(c)\n",
        "                    break\n",
        "                else:\n",
        "                    return(-1)\n",
        "            else:\n",
        "                 A = str(d) + str(A)\n",
        "\n",
        "##but still showing a runtime error"
      ],
      "execution_count": null,
      "outputs": []
    },
    {
      "cell_type": "code",
      "metadata": {
        "id": "0RfvPEaJq1C8"
      },
      "source": [
        ""
      ],
      "execution_count": null,
      "outputs": []
    }
  ]
}