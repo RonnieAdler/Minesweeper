{
  "nbformat": 4,
  "nbformat_minor": 0,
  "metadata": {
    "colab": {
      "name": "Untitled16.ipynb",
      "provenance": [],
      "authorship_tag": "ABX9TyPzmoJtP/MeHRHwrW1nrQ/e",
      "include_colab_link": true
    },
    "kernelspec": {
      "name": "python3",
      "display_name": "Python 3"
    },
    "language_info": {
      "name": "python"
    }
  },
  "cells": [
    {
      "cell_type": "markdown",
      "metadata": {
        "id": "view-in-github",
        "colab_type": "text"
      },
      "source": [
        "<a href=\"https://colab.research.google.com/github/RonnieAdler/geekycorsula/blob/trfiles/Untitled16.ipynb\" target=\"_parent\"><img src=\"https://colab.research.google.com/assets/colab-badge.svg\" alt=\"Open In Colab\"/></a>"
      ]
    },
    {
      "cell_type": "code",
      "metadata": {
        "id": "OTP6i_8rlxIm"
      },
      "source": [
        "You are given a number N. Find the total count of set bits for all numbers from 1 to N(both inclusive).\n"
      ],
      "execution_count": null,
      "outputs": []
    },
    {
      "cell_type": "code",
      "metadata": {
        "colab": {
          "base_uri": "https://localhost:8080/",
          "height": 35
        },
        "id": "z7eH_7WUoZa8",
        "outputId": "d5533f2d-68aa-4f68-efe6-abd2a3e8e6f1"
      },
      "source": [
        "print(str(bin(100)))"
      ],
      "execution_count": 1,
      "outputs": [
        {
          "output_type": "execute_result",
          "data": {
            "application/vnd.google.colaboratory.intrinsic+json": {
              "type": "string"
            },
            "text/plain": [
              "'0b1100100'"
            ]
          },
          "metadata": {},
          "execution_count": 1
        }
      ]
    },
    {
      "cell_type": "code",
      "metadata": {
        "colab": {
          "base_uri": "https://localhost:8080/"
        },
        "id": "dobgM5XBXmPz",
        "outputId": "e1479063-a995-4e3c-be0f-41c2833747ab"
      },
      "source": [
        "a=4\n",
        "b=0\n",
        "for i in range(1,a+1):\n",
        "  h=str(bin(i))\n",
        "  b+=h.count(\"1\")\n",
        "print(b)"
      ],
      "execution_count": 5,
      "outputs": [
        {
          "output_type": "stream",
          "name": "stdout",
          "text": [
            "5\n"
          ]
        }
      ]
    },
    {
      "cell_type": "code",
      "metadata": {
        "id": "X34z2-wPcM_2"
      },
      "source": [
        "##the true solution\n",
        " #Function to return sum of count of set bits in the integers from 1 to n.\n",
        "    def countSetBits(self,n):\n",
        "        #Ignoring 0 as all the bits are unset. \n",
        "        n += 1\n",
        "        count = 0\n",
        "        \n",
        "        x = 2\n",
        "        #Counting set bits from 1 to n.\n",
        "        while x//2 < n:\n",
        "            #Total count of pairs of 0s and 1s.\n",
        "            quotient = n//x\n",
        "            #quotient gives the complete count of pairs of 1s.\n",
        "            #Multiplying it with the (current power of 2)/2 will give\n",
        "            #the count of 1s in the current bit.\n",
        "            count += quotient * x // 2\n",
        "            \n",
        "            remainder = n % x\n",
        "            #If the count of pairs is odd then we add the remaining 1s \n",
        "            #which could not be grouped together. \n",
        "            if remainder > x//2:\n",
        "                count += remainder - x//2\n",
        "            \n",
        "            x = x*2\n",
        "        #returning count of set bits.\n",
        "        return count"
      ],
      "execution_count": null,
      "outputs": []
    }
  ]
}